{
  "nbformat": 4,
  "nbformat_minor": 0,
  "metadata": {
    "colab": {
      "name": "KNN_IMPLEMENTATION.ipynb",
      "provenance": [],
      "collapsed_sections": []
    },
    "language_info": {
      "codemirror_mode": {
        "name": "ipython",
        "version": 3
      },
      "file_extension": ".py",
      "mimetype": "text/x-python",
      "name": "python",
      "nbconvert_exporter": "python",
      "pygments_lexer": "ipython3",
      "version": "3.6.5"
    },
    "kernelspec": {
      "display_name": "Python 3",
      "language": "python",
      "name": "python3"
    }
  },
  "cells": [
    {
      "cell_type": "code",
      "metadata": {
        "id": "Qc7sBjK5Csg7",
        "colab": {
          "base_uri": "https://localhost:8080/",
          "height": 34
        },
        "outputId": "b5d7069c-0231-4cf6-cc02-2f00843b5b67"
      },
      "source": [
        "from google.colab import drive\n",
        "drive.mount('/content/drive')"
      ],
      "execution_count": null,
      "outputs": [
        {
          "output_type": "stream",
          "text": [
            "Mounted at /content/drive\n"
          ],
          "name": "stdout"
        }
      ]
    },
    {
      "cell_type": "code",
      "metadata": {
        "id": "_oGOR0upJ5hG",
        "colab": {
          "base_uri": "https://localhost:8080/",
          "height": 198
        },
        "outputId": "971f0cf1-e50c-4347-c95d-27d47bb80f0e"
      },
      "source": [
        "%matplotlib inline\n",
        "import warnings\n",
        "warnings.filterwarnings(\"ignore\")\n",
        "import pandas as pd\n",
        "\n",
        "imdb = '/content/drive/My Drive/imdb.txt'\n",
        "\n",
        "data = pd.read_csv(imdb)\n",
        "data.head()"
      ],
      "execution_count": null,
      "outputs": [
        {
          "output_type": "execute_result",
          "data": {
            "text/html": [
              "<div>\n",
              "<style scoped>\n",
              "    .dataframe tbody tr th:only-of-type {\n",
              "        vertical-align: middle;\n",
              "    }\n",
              "\n",
              "    .dataframe tbody tr th {\n",
              "        vertical-align: top;\n",
              "    }\n",
              "\n",
              "    .dataframe thead th {\n",
              "        text-align: right;\n",
              "    }\n",
              "</style>\n",
              "<table border=\"1\" class=\"dataframe\">\n",
              "  <thead>\n",
              "    <tr style=\"text-align: right;\">\n",
              "      <th></th>\n",
              "      <th>class</th>\n",
              "      <th>clean_text</th>\n",
              "    </tr>\n",
              "  </thead>\n",
              "  <tbody>\n",
              "    <tr>\n",
              "      <th>0</th>\n",
              "      <td>0</td>\n",
              "      <td>slow moving aimless movie distressed drifting ...</td>\n",
              "    </tr>\n",
              "    <tr>\n",
              "      <th>1</th>\n",
              "      <td>0</td>\n",
              "      <td>not sure lost flat characters audience nearly ...</td>\n",
              "    </tr>\n",
              "    <tr>\n",
              "      <th>2</th>\n",
              "      <td>0</td>\n",
              "      <td>attempting artiness black white clever camera ...</td>\n",
              "    </tr>\n",
              "    <tr>\n",
              "      <th>3</th>\n",
              "      <td>0</td>\n",
              "      <td>little music anything speak</td>\n",
              "    </tr>\n",
              "    <tr>\n",
              "      <th>4</th>\n",
              "      <td>1</td>\n",
              "      <td>best scene movie gerardo trying find song keep...</td>\n",
              "    </tr>\n",
              "  </tbody>\n",
              "</table>\n",
              "</div>"
            ],
            "text/plain": [
              "   class                                         clean_text\n",
              "0      0  slow moving aimless movie distressed drifting ...\n",
              "1      0  not sure lost flat characters audience nearly ...\n",
              "2      0  attempting artiness black white clever camera ...\n",
              "3      0                        little music anything speak\n",
              "4      1  best scene movie gerardo trying find song keep..."
            ]
          },
          "metadata": {
            "tags": []
          },
          "execution_count": 3
        }
      ]
    },
    {
      "cell_type": "code",
      "metadata": {
        "id": "-dyE6vAfJ5hN"
      },
      "source": [
        "Y = data['class'].values\n",
        "X = data['clean_text'].values"
      ],
      "execution_count": null,
      "outputs": []
    },
    {
      "cell_type": "code",
      "metadata": {
        "id": "aZV_UJJxOxLY",
        "colab": {
          "base_uri": "https://localhost:8080/",
          "height": 69
        },
        "outputId": "c10723c7-81b2-4b22-e95a-b2583b79a2ed"
      },
      "source": [
        "print(type(X))\n",
        "print(\"=\"*50)\n",
        "print(type(Y))"
      ],
      "execution_count": null,
      "outputs": [
        {
          "output_type": "stream",
          "text": [
            "<class 'numpy.ndarray'>\n",
            "==================================================\n",
            "<class 'numpy.ndarray'>\n"
          ],
          "name": "stdout"
        }
      ]
    },
    {
      "cell_type": "code",
      "metadata": {
        "id": "B04Xjm51J5hR",
        "colab": {
          "base_uri": "https://localhost:8080/",
          "height": 259
        },
        "outputId": "314c6e63-992d-4619-96c8-19026c638d5d"
      },
      "source": [
        "# https://scikit-learn.org/stable/modules/generated/sklearn.model_selection.train_test_split.html\n",
        "from sklearn.model_selection import train_test_split\n",
        "\n",
        "# X_train, X_test, y_train, y_test = train_test_split(X, Y, test_size=0.33, shuffle=Flase)# this is for time series split\n",
        "X_train, X_test, y_train, y_test = train_test_split(X, Y, test_size=0.33) # this is random splitting\n",
        "X_train, X_cv, y_train, y_cv = train_test_split(X_train, y_train, test_size=0.33) # this is random splitting\n",
        "\n",
        "\n",
        "print(X_train.shape, y_train.shape)\n",
        "print(X_cv.shape, y_cv.shape)\n",
        "print(X_test.shape, y_test.shape)\n",
        "\n",
        "print(\"=\"*100)\n",
        "\n",
        "from sklearn.feature_extraction.text import CountVectorizer\n",
        "vectorizer = CountVectorizer()\n",
        "vectorizer.fit(X_train) # fit has to happen only on train data\n",
        "\n",
        "# we use the fitted CountVectorizer to convert the text to vector\n",
        "X_train_bow = vectorizer.transform(X_train)\n",
        "X_cv_bow = vectorizer.transform(X_cv)\n",
        "X_test_bow = vectorizer.transform(X_test)\n",
        "\n",
        "print(\"After vectorizations\")\n",
        "print(X_train_bow.shape, y_train.shape)\n",
        "print(X_cv_bow.shape, y_cv.shape)\n",
        "print(X_test_bow.shape, y_test.shape)\n",
        "print(\"=\"*100)\n",
        "\n",
        "print(\"YOU SHOULD NOT DO SOMETHING LIKE THIS\")\n",
        "vectorizer = CountVectorizer()\n",
        "x_train_bow = vectorizer.fit_transform(X_train)\n",
        "x_cv_bow = vectorizer.fit_transform(X_cv)\n",
        "x_test_bow = vectorizer.fit_transform(X_test)\n",
        "\n",
        "print(x_train_bow.shape, y_train.shape)\n",
        "print(x_cv_bow.shape, y_cv.shape)\n",
        "print(x_test_bow.shape, y_test.shape)\n",
        "\n",
        "print(\"NOTE: THE NUMBER OF COLUMNS IN EACH OF THE VECTOR WONT BE SAME\")\n"
      ],
      "execution_count": null,
      "outputs": [
        {
          "output_type": "stream",
          "text": [
            "(334,) (334,)\n",
            "(165,) (165,)\n",
            "(247,) (247,)\n",
            "====================================================================================================\n",
            "After vectorizations\n",
            "(334, 1633) (334,)\n",
            "(165, 1633) (165,)\n",
            "(247, 1633) (247,)\n",
            "====================================================================================================\n",
            "YOU SHOULD NOT DO SOMETHING LIKE THIS\n",
            "(334, 1633) (334,)\n",
            "(165, 1083) (165,)\n",
            "(247, 1333) (247,)\n",
            "NOTE: THE NUMBER OF COLUMNS IN EACH OF THE VECTOR WONT BE SAME\n"
          ],
          "name": "stdout"
        }
      ]
    },
    {
      "cell_type": "markdown",
      "metadata": {
        "id": "Pel9QxEKJ5hW"
      },
      "source": [
        "<pre>\n",
        "<h2> <font color='red'>YOU SHOULD NOT DO LIKE THIS </font></h2>\n",
        "1.  <font color='red'>THE VOCABULARY SHOULD BUILT ONLY WITH THE WORDS OF TRAIN DATA</font>\n",
        "    vectorizer = CountVectorizer()\n",
        "    x_train_bow = vectorizer.fit_transform(X_train)\n",
        "    x_cv_bow = vectorizer.fit_transform(X_cv)\n",
        "    x_test_bow = vectorizer.fit_transform(X_test)\n",
        "    \n",
        "2.  <font color='red'>DATA LEAKAGE PROBLEM: IF WE DO LIKE THIS WE ARE LOOKING AT THE TEST DATA BEFORE MODELING</font>\n",
        "    vectorizer = CountVectorizer()\n",
        "    X_bow = vectorizer.fit_transfomr(X)\n",
        "    X_train, X_test, y_train, y_test = train_test_split(X_bow, Y, test_size=0.33)\n",
        "   \n",
        "3. <font color='red'>YOU SHOULD PASS THE PROBABILITY SCORES NOT THE PREDICTED VALUES</font>\n",
        "    y_pred =  neigh.predict(X)\n",
        "    roc_auc_score(y_ture,y_pred)\n",
        "\n",
        "\n",
        "</pre>"
      ]
    },
    {
      "cell_type": "markdown",
      "metadata": {
        "id": "oM-up3ZYWZ9z"
      },
      "source": [
        "<h2> <font color='red'>WHAT ARE THESE FUNCTIONS: FIT, TRANSFORM, FIT_TRANSFORM</font></h2>"
      ]
    },
    {
      "cell_type": "code",
      "metadata": {
        "id": "6tK4ikF1WZ91",
        "outputId": "06ddc0e0-51eb-4db1-cf80-7fbbf9513af4"
      },
      "source": [
        "sentance = [\"abc def pqr\", \"abc pqr cdf jkl cdf\"]\n",
        "example = CountVectorizer()\n",
        "example.fit(sentance)\n",
        "# after this statement the example will build the vocabulary with all the unique words\n",
        "# you should call this function only after fit() \n",
        "print(example.vocabulary_) # this will return a dict object, words as key and the occurence as value\n",
        "print('='*50)\n",
        "\n",
        "# to convert the sentance into numerical vectors, we will call transform()\n",
        "# the first feature name will corresponds to first column in transformed matrix\n",
        "# the 2nd feature name will corresponds to 2nd column in transformed matrix\n",
        "print(example.get_feature_names())\n",
        "print(example.transform(sentance).toarray())\n",
        "# \"abc\" will corresponds to first colum\n",
        "# \"cdf\" will corresponds to 2nd column"
      ],
      "execution_count": null,
      "outputs": [
        {
          "output_type": "stream",
          "text": [
            "{'abc': 0, 'def': 2, 'pqr': 4, 'cdf': 1, 'jkl': 3}\n",
            "==================================================\n",
            "['abc', 'cdf', 'def', 'jkl', 'pqr']\n",
            "[[1 0 1 0 1]\n",
            " [1 2 0 1 1]]\n"
          ],
          "name": "stdout"
        }
      ]
    },
    {
      "cell_type": "markdown",
      "metadata": {
        "id": "zZj2_zI5J5hX"
      },
      "source": [
        "<pre>\n",
        "\n",
        "When you do\n",
        "<i><font color='blue'>vec =  CountVectorizer()</font></i>\n",
        "\n",
        "then it will initiate the <i><font color='blue'>CountVectorizer</font></i> with default parameters.\n",
        "\n",
        "<i><font color='blue'>vec.fit(Train_text)</font></i>: Means that internally it is only learning the vocabulary of `Text` i.e. unique n-grams\n",
        "\n",
        "<i><font color='blue'>bag_of_words = vec.transform(Train_text)</font></i>: Means it is applying that learned parameters (vocabulary) to the data and thus giving you output i.e. words in Bag of words formate. \n",
        "\n",
        "Now, as you should know that the  <i>vocabulary(unique n-grams)</i> can be different for <i>Train Text</i> and <i>Test Text</i> thus they will give you different dimensional matrices for Train and Test. \n",
        "\n",
        "So what you should do is -  <i><font color='blue'>vec = CountVectorizer()</font></i>, <i><font color='blue'>vec.fit(Train_text)</font></i>\n",
        "\n",
        "which learns the vocabulary of <i>Train Text</i> and then apply or transform your both <i>Train Text</i> and <i>Test Text</i>  using that  \n",
        "learned vocabulary to ensure the same dimensions for both of them by doing -\n",
        "\n",
        "<i><font color='blue'>bag_of_words_train = vec.transform(Train_text)</font></i>\n",
        "and\n",
        "<i><font color='blue'>bag_of_words_test = vec.transform(Test_text)</font></i>\n",
        "\n",
        "\n",
        "so to conclude\n",
        "\n",
        "<i><font color='blue'>\n",
        "model =  CountVectorizer()\n",
        "model.fit(train_text)\n",
        "train_bow = model.transform(train_text)\n",
        "test_bow = model.transform(test_text) \n",
        "</font></i>\n",
        "\n",
        "or \n",
        "   \n",
        "<i><font color='blue'>\n",
        "model =  CountVectorizer()\n",
        "train_bow = model.fit_transform(train_text)\n",
        "test_bow = model.transform(test_text) \n",
        "</font></i>\n",
        "\n",
        "\n",
        "</pre>"
      ]
    },
    {
      "cell_type": "markdown",
      "metadata": {
        "id": "eG5pYt_7J5hY"
      },
      "source": [
        "# Applying KNN"
      ]
    },
    {
      "cell_type": "markdown",
      "metadata": {
        "id": "Hut2gnvlJ5hZ"
      },
      "source": [
        "# 1: Hyper parameter Tuning (YOU CAN FOLLOW ANY ONE OF THESE)"
      ]
    },
    {
      "cell_type": "markdown",
      "metadata": {
        "id": "jTpUqwRVJ5ha"
      },
      "source": [
        "## 1.1 Method 1: Simple for loop"
      ]
    },
    {
      "cell_type": "code",
      "metadata": {
        "id": "cNgRJuS0J5hc",
        "colab": {
          "base_uri": "https://localhost:8080/",
          "height": 295
        },
        "outputId": "89ef327c-3a30-450f-cf7b-643083b4880f"
      },
      "source": [
        "from sklearn.neighbors import KNeighborsClassifier\n",
        "from sklearn.metrics import roc_auc_score\n",
        "import matplotlib.pyplot as plt\n",
        "\"\"\"\n",
        "y_true : array, shape = [n_samples] or [n_samples, n_classes]\n",
        "True binary labels or binary label indicators.\n",
        "\n",
        "y_score : array, shape = [n_samples] or [n_samples, n_classes]\n",
        "Target scores, can either be probability estimates of the positive class, confidence values, or non-thresholded measure of\n",
        "decisions (as returned by “decision_function” on some classifiers). \n",
        "For binary y_true, y_score is supposed to be the score of the class with greater label.\n",
        "\n",
        "\"\"\"\n",
        "\n",
        "train_auc = []\n",
        "cv_auc = []\n",
        "K = [1, 5, 10, 15, 21, 31, 41, 51]\n",
        "for i in K:\n",
        "    neigh = KNeighborsClassifier(n_neighbors=i)\n",
        "    neigh.fit(X_train_bow, y_train)\n",
        "    # roc_auc_score(y_true, y_score) the 2nd parameter should be probability estimates of the positive class\n",
        "    # not the predicted outputs\n",
        "    y_train_pred =  neigh.predict_proba(X_train_bow)[:,1]\n",
        "    y_cv_pred =  neigh.predict_proba(X_cv_bow)[:,1]\n",
        "    \n",
        "    train_auc.append(roc_auc_score(y_train,y_train_pred))\n",
        "    cv_auc.append(roc_auc_score(y_cv, y_cv_pred))\n",
        "\n",
        "plt.plot(K, train_auc, label='Train AUC')\n",
        "plt.plot(K, cv_auc, label='CV AUC')\n",
        "plt.legend()\n",
        "plt.xlabel(\"K: hyperparameter\")\n",
        "plt.ylabel(\"AUC\")\n",
        "plt.title(\"ERROR PLOTS\")\n",
        "plt.show()"
      ],
      "execution_count": null,
      "outputs": [
        {
          "output_type": "display_data",
          "data": {
            "image/png": "[encoded data removed]",
            "text/plain": [
              "<Figure size 432x288 with 1 Axes>"
            ]
          },
          "metadata": {
            "tags": [],
            "needs_background": "light"
          }
        }
      ]
    },
    {
      "cell_type": "markdown",
      "metadata": {
        "id": "5kZAWpWbJ5hg"
      },
      "source": [
        "## 1.2 Method 2: GridSearch or randomsearch"
      ]
    },
    {
      "cell_type": "code",
      "metadata": {
        "id": "EqNxp2X9J5hi",
        "colab": {
          "base_uri": "https://localhost:8080/",
          "height": 312
        },
        "outputId": "896f1293-0625-4d1b-e4be-ed5c98b8ea3e"
      },
      "source": [
        "# https://scikit-learn.org/stable/modules/generated/sklearn.model_selection.GridSearchCV.html\n",
        "from sklearn.model_selection import GridSearchCV\n",
        "\n",
        "neigh = KNeighborsClassifier()\n",
        "parameters = {'n_neighbors':[1, 5, 10, 15, 21, 31, 41, 51]}\n",
        "clf = GridSearchCV(neigh, parameters, cv=10, scoring='roc_auc', return_train_score=True)\n",
        "clf.fit(X_train_bow, y_train)\n",
        "\n",
        "train_auc= clf.cv_results_['mean_train_score']\n",
        "train_auc_std= clf.cv_results_['std_train_score']\n",
        "cv_auc = clf.cv_results_['mean_test_score'] \n",
        "cv_auc_std= clf.cv_results_['std_test_score']\n",
        "\n",
        "print(clf.best_index_)\n",
        "\n",
        "\n",
        "plt.plot(K, train_auc, label='Train AUC')\n",
        "# this code is copied from here: https://stackoverflow.com/a/48803361/4084039\n",
        "plt.gca().fill_between(K,train_auc - train_auc_std,train_auc + train_auc_std,alpha=0.2,color='darkblue')\n",
        "\n",
        "plt.plot(K, cv_auc, label='CV AUC')\n",
        "# this code is copied from here: https://stackoverflow.com/a/48803361/4084039\n",
        "plt.gca().fill_between(K,cv_auc - cv_auc_std,cv_auc + cv_auc_std,alpha=0.2,color='darkorange')\n",
        "plt.legend()\n",
        "plt.xlabel(\"K: hyperparameter\")\n",
        "plt.ylabel(\"AUC\")\n",
        "plt.title(\"ERROR PLOTS\")\n",
        "plt.show()"
      ],
      "execution_count": null,
      "outputs": [
        {
          "output_type": "stream",
          "text": [
            "7\n"
          ],
          "name": "stdout"
        },
        {
          "output_type": "display_data",
          "data": {
            "image/png": "[encoded data removed]",
            "text/plain": [
              "<Figure size 432x288 with 1 Axes>"
            ]
          },
          "metadata": {
            "tags": [],
            "needs_background": "light"
          }
        }
      ]
    },
    {
      "cell_type": "code",
      "metadata": {
        "id": "yPkaf9adJ5hm"
      },
      "source": [
        "# from the error plot we choose K such that, we will have maximum AUC on cv data and gap between the train and cv is less\n",
        "# Note: based on the method you use you might get different hyperparameter values as best one\n",
        "# so, you choose according to the method you choose, you use gridsearch if you are having more computing power and note it will take more time\n",
        "# if you increase the cv values in the GridSearchCV you will get more rebust results.\n",
        "\n",
        "#here we are choosing the best_k based on forloop results\n",
        "best_k = 10"
      ],
      "execution_count": null,
      "outputs": []
    },
    {
      "cell_type": "markdown",
      "metadata": {
        "id": "m8W99pg4J5hq"
      },
      "source": [
        "# 2. Testing with Test data"
      ]
    },
    {
      "cell_type": "code",
      "metadata": {
        "id": "GjmzpJcCJ5hr",
        "colab": {
          "base_uri": "https://localhost:8080/",
          "height": 416
        },
        "outputId": "565c1641-5173-4407-c40b-a7405da111da"
      },
      "source": [
        "# https://scikit-learn.org/stable/modules/generated/sklearn.metrics.roc_curve.html#sklearn.metrics.roc_curve\n",
        "from sklearn.metrics import roc_curve, auc\n",
        "\n",
        "\n",
        "neigh = KNeighborsClassifier(n_neighbors=7)\n",
        "neigh.fit(X_train_bow, y_train)\n",
        "# roc_auc_score(y_true, y_score) the 2nd parameter should be probability estimates of the positive class\n",
        "# not the predicted outputs\n",
        "\n",
        "train_fpr, train_tpr, thresholds = roc_curve(y_train, neigh.predict_proba(X_train_bow)[:,1])\n",
        "test_fpr, test_tpr, thresholds = roc_curve(y_test, neigh.predict_proba(X_test_bow)[:,1])\n",
        "\n",
        "plt.plot(train_fpr, train_tpr, label=\"train AUC =\"+str(auc(train_fpr, train_tpr)))\n",
        "plt.plot(test_fpr, test_tpr, label=\"test AUC =\"+str(auc(test_fpr, test_tpr)))\n",
        "plt.legend()\n",
        "plt.xlabel(\"K: hyperparameter\")\n",
        "plt.ylabel(\"AUC\")\n",
        "plt.title(\"ERROR PLOTS\")\n",
        "plt.show()\n",
        "\n",
        "print(\"=\"*100)\n",
        "\n",
        "from sklearn.metrics import confusion_matrix\n",
        "print(\"Train confusion matrix\")\n",
        "print(confusion_matrix(y_train, neigh.predict(X_train_bow)))\n",
        "print(\"Test confusion matrix\")\n",
        "print(confusion_matrix(y_test, neigh.predict(X_test_bow)))"
      ],
      "execution_count": null,
      "outputs": [
        {
          "output_type": "display_data",
          "data": {
            "image/png": "[encoded data removed]",
            "text/plain": [
              "<Figure size 432x288 with 1 Axes>"
            ]
          },
          "metadata": {
            "tags": [],
            "needs_background": "light"
          }
        },
        {
          "output_type": "stream",
          "text": [
            "====================================================================================================\n",
            "Train confusion matrix\n",
            "[[140  32]\n",
            " [ 58 104]]\n",
            "Test confusion matrix\n",
            "[[76 34]\n",
            " [75 62]]\n"
          ],
          "name": "stdout"
        }
      ]
    },
    {
      "cell_type": "markdown",
      "metadata": {
        "id": "FN_TblJSJ5hv"
      },
      "source": [
        "<pre>\n",
        "\n",
        "<h3><font color='blue'>IF Your system is getting stuck when you are working with the Knn: <font color='green'>YOU NEED TO USE BATCH WISE PREDICTION</font></font></h3>\n",
        "\n",
        "neigh = KNeighborsClassifier(n_neighbors=i)\n",
        "neigh.fit(X_train_bow, y_train)\n",
        "\n",
        "# instead of predicting all the data points at a time, we will predict 1000 data points at a time\n",
        "# you might need to change this code as per requirement\n",
        "# please try to debug errors on your own, read the errors and try to understand it.\n",
        "# you should be able to resolve them on your own as you wrote that code :)\n",
        "# use as many print statements as possible and make sure whats happening in the code\n",
        "# read the documentation of functions and get the sense out of it\n",
        "\n",
        "y_train_pred = []\n",
        "for i in range(0, X_train.shape[0], 1000):\n",
        "    y_train_pred.extend(neigh.predict_proba(X_train_bow[i,i+1000])[:,1]) # this is a pseudo code\n",
        "\n",
        "y_cv_pred = []\n",
        "for i in range(0, X_cv.shape[0], 1000):\n",
        "    y_cv_pred.extend(neigh.predict_proba(X_cv_bow[i,i+1000])[:,1]) # this is a pseudo code\n",
        "    \n",
        "\n",
        "train_auc.append(roc_auc_score(y_train,y_train_pred))\n",
        "cv_auc.append(roc_auc_score(y_cv, y_cv_pred))\n",
        "\n",
        "\n",
        "</pre>"
      ]
    },
    {
      "cell_type": "markdown",
      "metadata": {
        "id": "4dcxTC3QWZ_D"
      },
      "source": [
        "# Working with word2vec"
      ]
    },
    {
      "cell_type": "markdown",
      "metadata": {
        "id": "XvtJpFyGWZ_E"
      },
      "source": [
        "## Preparing Reviews for gensim model (Tokenize the Data)"
      ]
    },
    {
      "cell_type": "code",
      "metadata": {
        "id": "zquluk33WZ_F"
      },
      "source": [
        "i=0\n",
        "list_of_sentance_train=[]\n",
        "for sentance in X_train:\n",
        "    list_of_sentance_train.append(sentance.split())"
      ],
      "execution_count": null,
      "outputs": []
    },
    {
      "cell_type": "markdown",
      "metadata": {
        "id": "HYhFnGbbWZ_M"
      },
      "source": [
        "## Training w2v model"
      ]
    },
    {
      "cell_type": "code",
      "metadata": {
        "id": "a9i5fUYoWZ_P"
      },
      "source": [
        "from gensim.models import Word2Vec\n",
        "from gensim.models import KeyedVectors"
      ],
      "execution_count": null,
      "outputs": []
    },
    {
      "cell_type": "markdown",
      "metadata": {
        "id": "ZMeuB_ZWmit_"
      },
      "source": [
        "##Using Google W2V Model"
      ]
    },
    {
      "cell_type": "code",
      "metadata": {
        "id": "1_VnQ72Hj20D",
        "colab": {
          "base_uri": "https://localhost:8080/",
          "height": 207
        },
        "outputId": "8ed0e636-8b2e-4430-b88f-22c741ac459b"
      },
      "source": [
        "!wget -P /root/input/ -c \"https://s3.amazonaws.com/dl4j-distribution/GoogleNews-vectors-negative300.bin.gz\""
      ],
      "execution_count": null,
      "outputs": [
        {
          "output_type": "stream",
          "text": [
            "--2020-09-26 17:56:52--  https://s3.amazonaws.com/dl4j-distribution/GoogleNews-vectors-negative300.bin.gz\n",
            "Resolving s3.amazonaws.com (s3.amazonaws.com)... 52.217.18.214\n",
            "Connecting to s3.amazonaws.com (s3.amazonaws.com)|52.217.18.214|:443... connected.\n",
            "HTTP request sent, awaiting response... 200 OK\n",
            "Length: 1647046227 (1.5G) [application/x-gzip]\n",
            "Saving to: ‘/root/input/GoogleNews-vectors-negative300.bin.gz’\n",
            "\n",
            "GoogleNews-vectors- 100%[===================>]   1.53G  34.6MB/s    in 46s     \n",
            "\n",
            "2020-09-26 17:57:39 (33.8 MB/s) - ‘/root/input/GoogleNews-vectors-negative300.bin.gz’ saved [1647046227/1647046227]\n",
            "\n"
          ],
          "name": "stdout"
        }
      ]
    },
    {
      "cell_type": "code",
      "metadata": {
        "id": "xg5LddUykF06"
      },
      "source": [
        "from gensim.models import KeyedVectors"
      ],
      "execution_count": null,
      "outputs": []
    },
    {
      "cell_type": "code",
      "metadata": {
        "id": "-N2dOp5KkSH4"
      },
      "source": [
        "EMBEDDING_FILE = '/root/input/GoogleNews-vectors-negative300.bin.gz' # from above\n",
        "word2vec = KeyedVectors.load_word2vec_format(EMBEDDING_FILE, binary=True)"
      ],
      "execution_count": null,
      "outputs": []
    },
    {
      "cell_type": "code",
      "metadata": {
        "id": "PrBj-Jt1WZ_s",
        "colab": {
          "base_uri": "https://localhost:8080/",
          "height": 72
        },
        "outputId": "b823bd82-0be7-492c-88d9-818366c4d4cf"
      },
      "source": [
        "w2v_words = list(word2vec.wv.vocab)\n",
        "print(\"number of words that occured minimum 5 times \",len(w2v_words))\n",
        "print(\"sample words \", w2v_words[0:50])"
      ],
      "execution_count": null,
      "outputs": [
        {
          "output_type": "stream",
          "text": [
            "number of words that occured minimum 5 times  3000000\n",
            "sample words  ['</s>', 'in', 'for', 'that', 'is', 'on', '##', 'The', 'with', 'said', 'was', 'the', 'at', 'not', 'as', 'it', 'be', 'from', 'by', 'are', 'I', 'have', 'he', 'will', 'has', '####', 'his', 'an', 'this', 'or', 'their', 'who', 'they', 'but', '$', 'had', 'year', 'were', 'we', 'more', '###', 'up', 'been', 'you', 'its', 'one', 'about', 'would', 'which', 'out']\n"
          ],
          "name": "stdout"
        }
      ]
    },
    {
      "cell_type": "markdown",
      "metadata": {
        "id": "fBB2uYhxWaAB"
      },
      "source": [
        "# Converting Reviews into Numerical Vectors using W2V vectors"
      ]
    },
    {
      "cell_type": "markdown",
      "metadata": {
        "id": "PwFqUtpNWaAE"
      },
      "source": [
        "## Algorithm: Avg W2V"
      ]
    },
    {
      "cell_type": "code",
      "metadata": {
        "id": "ZBFyNozYWaAH"
      },
      "source": [
        "from tqdm import tqdm\n",
        "import numpy as np"
      ],
      "execution_count": null,
      "outputs": []
    },
    {
      "cell_type": "markdown",
      "metadata": {
        "id": "Ei-A9hndWaAP"
      },
      "source": [
        "### Converting Train data text"
      ]
    },
    {
      "cell_type": "code",
      "metadata": {
        "id": "kffRldw2WaAS",
        "colab": {
          "base_uri": "https://localhost:8080/",
          "height": 916
        },
        "outputId": "c30cf40e-2e63-4ad4-93c8-9e4bf1169f72"
      },
      "source": [
        "# average Word2Vec\n",
        "# compute average word2vec for each review.\n",
        "sent_vectors1 = []; # the avg-w2v for each sentence/review is stored in this list\n",
        "for sent in tqdm(list_of_sentance_train): # for each review/sentence\n",
        "    sent_vec = np.zeros(300) # as word vectors are of zero length 50, you might need to change this to 300 if you use google's w2v\n",
        "    cnt_words =0; # num of words with a valid vector in the sentence/review\n",
        "    for word in sent: # for each word in a review/sentence\n",
        "        if word in w2v_words:\n",
        "            vec = word2vec.wv[word]\n",
        "            sent_vec += vec\n",
        "            cnt_words += 1\n",
        "    if cnt_words != 0:\n",
        "        sent_vec /= cnt_words\n",
        "    sent_vectors1.append(sent_vec)\n",
        "sent_vectors = np.array(sent_vectors1)\n",
        "sent_vectors_train = np.array(sent_vectors)\n",
        "print(sent_vectors.shape)\n",
        "print(sent_vectors[0])"
      ],
      "execution_count": null,
      "outputs": [
        {
          "output_type": "stream",
          "text": [
            "100%|██████████| 334/334 [00:08<00:00, 38.30it/s]"
          ],
          "name": "stderr"
        },
        {
          "output_type": "stream",
          "text": [
            "(334, 300)\n",
            "[ 0.06473445  0.01943512  0.00362219  0.09710343 -0.04513797  0.0261551\n",
            "  0.06696547 -0.0600737   0.07472327  0.07171429 -0.01445699 -0.13720761\n",
            " -0.02989821  0.02992186 -0.08941273  0.09374899  0.05938908  0.10826301\n",
            " -0.01628765 -0.08415368 -0.01486226  0.06802848  0.03274554 -0.00721661\n",
            "  0.06976106 -0.04963109 -0.04915733  0.05576956  0.01794394 -0.01331157\n",
            " -0.08635477  0.01614398 -0.00492376  0.03224425  0.04895692 -0.01042614\n",
            "  0.06040964  0.02107051  0.03687914  0.06732759  0.12073901 -0.04325332\n",
            "  0.10119538  0.00489923 -0.0271212  -0.02385136 -0.02797074  0.00216086\n",
            "  0.04588513 -0.00185405 -0.04422036  0.02461153 -0.05569438  0.01173296\n",
            "  0.01409244 -0.02010191 -0.02460824 -0.09445639  0.01750261 -0.06913389\n",
            "  0.0068938   0.12427304 -0.06213725 -0.06442132 -0.02114981  0.00979086\n",
            " -0.06998098  0.06157176 -0.02612757  0.04667279  0.02014037  0.0104091\n",
            "  0.03798214  0.02210564 -0.15801452 -0.04479697  0.05434611  0.06572276\n",
            "  0.07139111  0.06996472  0.01918725 -0.01400846  0.02099313 -0.03853839\n",
            " -0.06204777 -0.01956868 -0.09216466  0.11050369  0.03114109  0.00361018\n",
            "  0.04013073  0.0093464  -0.07161424 -0.00130579 -0.04029288 -0.04078027\n",
            "  0.0323841   0.0391069  -0.00966806 -0.03434119 -0.02658078  0.02854359\n",
            "  0.03629057 -0.02380607 -0.00363658 -0.02612599  0.00540792 -0.07898359\n",
            "  0.02441957 -0.09213206 -0.04785655  0.02404783  0.01616565 -0.01460247\n",
            "  0.12921011 -0.02101794  0.03301811 -0.04983828  0.08071396  0.03571715\n",
            " -0.1081326   0.00657285  0.02339836  0.0319207  -0.03886401 -0.02518941\n",
            " -0.08378742 -0.01422415 -0.03590229  0.01043576 -0.07745276 -0.08020379\n",
            " -0.05339407  0.03188566 -0.00279654 -0.02709629  0.03121137 -0.00151446\n",
            " -0.02690653  0.02219261  0.05036329 -0.08043959  0.01550817  0.04566095\n",
            "  0.01607742  0.01050796 -0.00987022  0.02724743 -0.04270162 -0.01480871\n",
            "  0.0601994   0.05046238 -0.06397068  0.09685729 -0.04403152 -0.05776407\n",
            " -0.04933609 -0.07658282 -0.0871823  -0.04373692 -0.00628501  0.06708182\n",
            "  0.01998756  0.08586514 -0.0002049  -0.0866359   0.07426455 -0.05863396\n",
            " -0.00038969 -0.00461832 -0.06834265 -0.00549463  0.02813449 -0.07745305\n",
            " -0.01612634 -0.02250335  0.07625051 -0.0973708  -0.02710003 -0.00598835\n",
            " -0.04926186 -0.06525215  0.01073709 -0.0270914  -0.03612122  0.00515647\n",
            " -0.04984457 -0.00521548  0.04194615  0.04808165  0.02225787  0.02801952\n",
            "  0.024433    0.012406   -0.00836283  0.04609389 -0.02476252  0.0021637\n",
            " -0.07099411 -0.04719711  0.04027144  0.07148386 -0.06503622  0.00924053\n",
            "  0.04075408 -0.03662943 -0.05072817 -0.00420661 -0.0601366  -0.00838871\n",
            " -0.03351291  0.09873641 -0.01773622  0.01567699 -0.10329603  0.00405735\n",
            "  0.05572749 -0.00550051 -0.07868363 -0.03299424 -0.01425862  0.04084586\n",
            " -0.03295438  0.02812943  0.0534166  -0.00180648  0.03718687 -0.00265605\n",
            " -0.01716516 -0.00755837  0.02583512 -0.04545173  0.00629045  0.05002936\n",
            "  0.07740839  0.00144542  0.00396447 -0.04927092  0.12001955 -0.01235333\n",
            "  0.08158442 -0.00432735  0.01948478 -0.08119475 -0.02030984  0.02088729\n",
            "  0.03063147  0.02961333 -0.01828971 -0.0443106   0.0007375   0.05297986\n",
            "  0.05493417  0.10727775  0.06735365 -0.06954876  0.01138311 -0.03183995\n",
            " -0.07375552 -0.08517011 -0.05640822  0.00457212 -0.04182018 -0.00571379\n",
            "  0.01611596  0.13155833 -0.0056456  -0.072175   -0.06718551 -0.01320619\n",
            "  0.00560607  0.0697611   0.06748848  0.03768254  0.07122512 -0.03328131\n",
            " -0.05757405 -0.0683789  -0.04401896  0.02613185  0.00203824 -0.04676553\n",
            " -0.00963637  0.05756026  0.01709585  0.0068479  -0.08916716 -0.01644507\n",
            "  0.01532505  0.0510642  -0.11293498  0.05239322 -0.10223719  0.01751453\n",
            " -0.05745208 -0.02982066  0.02731039 -0.06170551  0.02463139 -0.01464462]\n"
          ],
          "name": "stdout"
        },
        {
          "output_type": "stream",
          "text": [
            "\n"
          ],
          "name": "stderr"
        }
      ]
    },
    {
      "cell_type": "code",
      "metadata": {
        "id": "VtOBD0o6hE8M",
        "colab": {
          "base_uri": "https://localhost:8080/",
          "height": 34
        },
        "outputId": "032645e8-a8b0-4297-9e95-c14cbae1a9cf"
      },
      "source": [
        "type(sent_vectors)"
      ],
      "execution_count": null,
      "outputs": [
        {
          "output_type": "execute_result",
          "data": {
            "text/plain": [
              "list"
            ]
          },
          "metadata": {
            "tags": []
          },
          "execution_count": 55
        }
      ]
    },
    {
      "cell_type": "markdown",
      "metadata": {
        "id": "hJCpKoUYWaAe"
      },
      "source": [
        "### Converting CV data text"
      ]
    },
    {
      "cell_type": "code",
      "metadata": {
        "id": "83lfjl2vWaAf"
      },
      "source": [
        "i=0\n",
        "list_of_sentance_cv=[]\n",
        "for sentance in X_cv:\n",
        "    list_of_sentance_cv.append(sentance.split())"
      ],
      "execution_count": null,
      "outputs": []
    },
    {
      "cell_type": "code",
      "metadata": {
        "id": "WuhsFLLoWaAj"
      },
      "source": [
        "# average Word2Vec\n",
        "# compute average word2vec for each review.\n",
        "sent_vectors_cv1 = []; # the avg-w2v for each sentence/review is stored in this list\n",
        "for sent in tqdm(list_of_sentance_cv): # for each review/sentence\n",
        "    sent_vec = np.zeros(300) # as word vectors are of zero length 50, you might need to change this to 300 if you use google's w2v\n",
        "    cnt_words =0; # num of words with a valid vector in the sentence/review\n",
        "    for word in sent: # for each word in a review/sentence\n",
        "        if word in w2v_words:\n",
        "            vec = word2vec.wv[word]\n",
        "            sent_vec += vec\n",
        "            cnt_words += 1\n",
        "    if cnt_words != 0:\n",
        "        sent_vec /= cnt_words\n",
        "    sent_vectors_cv1.append(sent_vec)\n",
        "sent_vectors_cv = np.array(sent_vectors_cv1)\n",
        "sent_vectors_cv = np.array(sent_vectors_cv)\n",
        "print(sent_vectors_cv.shape)\n",
        "print(sent_vectors_cv[0])"
      ],
      "execution_count": null,
      "outputs": []
    },
    {
      "cell_type": "markdown",
      "metadata": {
        "id": "5hnawQdqWaAu"
      },
      "source": [
        "### Converting Test data text"
      ]
    },
    {
      "cell_type": "code",
      "metadata": {
        "id": "7el9k2V9WaAw"
      },
      "source": [
        "i=0\n",
        "list_of_sentance_test=[]\n",
        "for sentance in X_test:\n",
        "    list_of_sentance_test.append(sentance.split())"
      ],
      "execution_count": null,
      "outputs": []
    },
    {
      "cell_type": "code",
      "metadata": {
        "id": "Lm4iyzurWaBA",
        "colab": {
          "base_uri": "https://localhost:8080/",
          "height": 1000
        },
        "outputId": "6161525f-7bc7-48ac-ff25-c0ccff81647f"
      },
      "source": [
        "# average Word2Vec\n",
        "# compute average word2vec for each review.\n",
        "sent_vectors_test1 = []; # the avg-w2v for each sentence/review is stored in this list\n",
        "for sent in tqdm(list_of_sentance_test): # for each review/sentence\n",
        "    sent_vec = np.zeros(300) # as word vectors are of zero length 50, you might need to change this to 300 if you use google's w2v\n",
        "    cnt_words =0; # num of words with a valid vector in the sentence/review\n",
        "    for word in sent: # for each word in a review/sentence\n",
        "        if word in w2v_words:\n",
        "            vec = word2vec.wv[word]\n",
        "            sent_vec += vec\n",
        "            cnt_words += 1\n",
        "    if cnt_words != 0:\n",
        "        sent_vec /= cnt_words\n",
        "    sent_vectors_test1.append(sent_vec)\n",
        "sent_vectors_test = np.array(sent_vectors_test1)\n",
        "sent_vectors_test = np.array(sent_vectors_test)\n",
        "print(sent_vectors_test.shape)\n",
        "print(sent_vectors_test[0])"
      ],
      "execution_count": null,
      "outputs": [
        {
          "output_type": "stream",
          "text": [
            "100%|██████████| 247/247 [00:07<00:00, 32.42it/s]"
          ],
          "name": "stderr"
        },
        {
          "output_type": "stream",
          "text": [
            "(247, 300)\n",
            "[ 6.28560384e-02 -9.31803385e-03  1.27604167e-01  1.56250000e-02\n",
            "  2.60416667e-03 -5.45247396e-03  1.13932292e-02 -2.39257812e-01\n",
            "  1.96533203e-01  1.75537109e-01  1.06770833e-01 -1.20361328e-01\n",
            " -1.38346354e-01  8.96809896e-02 -5.09440104e-02  1.88720703e-01\n",
            "  8.55305990e-02  1.16699219e-01 -1.06608073e-02 -2.05078125e-02\n",
            " -2.45564779e-02 -1.91243490e-02  1.37715658e-01  8.59578451e-03\n",
            "  1.24430339e-01 -1.52994792e-02 -2.21120199e-01  1.58386230e-01\n",
            "  7.03188578e-02 -2.31933594e-01 -1.92545573e-01 -5.28971354e-03\n",
            " -3.64583333e-02 -5.09185791e-02 -1.61783854e-01 -1.47623698e-01\n",
            " -5.82682292e-02  7.73111979e-02  7.29573568e-02 -5.07812500e-02\n",
            "  1.35253906e-01  7.68915812e-02  1.71457926e-01  1.36311849e-01\n",
            " -9.01692708e-02 -5.42805990e-02  9.01692708e-02  8.35227966e-02\n",
            "  1.03373210e-01  1.46586100e-02  2.41851807e-03 -8.15429688e-02\n",
            " -9.70458984e-02  8.20312500e-02  9.34244792e-02 -6.99055990e-02\n",
            "  1.19628906e-01  7.58870443e-02 -7.91015625e-02 -8.51236979e-02\n",
            "  1.20035807e-01  1.31184896e-01 -1.35742188e-01  5.19205729e-02\n",
            "  4.31315104e-03  6.73421224e-02 -1.63736979e-01  1.29191081e-02\n",
            " -1.08235677e-02  1.79850260e-01 -9.44010417e-03 -1.30696615e-01\n",
            "  2.05891927e-02 -2.34375000e-02 -1.64062500e-01 -3.92659505e-02\n",
            "  9.51741536e-02  8.26212565e-02 -8.13802083e-03 -4.51660156e-02\n",
            " -3.67838542e-02  8.47167969e-02 -1.05794271e-02 -1.74153646e-01\n",
            " -6.35579427e-02  5.56640625e-02  6.56738281e-02  1.09171549e-01\n",
            "  1.62760417e-01  1.07381185e-01 -7.93863932e-02  2.03125000e-01\n",
            " -4.51965332e-02 -1.62760417e-04 -8.47778320e-02 -1.14095052e-01\n",
            "  2.20133464e-02 -1.62923177e-01  2.82389323e-01 -2.06949870e-01\n",
            " -7.19401042e-02  6.28255208e-02 -2.11588542e-02 -1.87174479e-03\n",
            "  3.95507812e-02 -1.22721354e-01  1.04492188e-01 -8.54492188e-03\n",
            "  7.32421875e-03 -1.59128825e-01 -6.85221354e-02  9.19596354e-03\n",
            "  4.30501302e-02 -8.01595052e-02  8.10546875e-02 -5.70475260e-02\n",
            " -1.87174479e-02 -9.67610677e-02 -7.23470052e-02  1.36311849e-02\n",
            " -9.46451823e-02  2.22981771e-02  8.95182292e-03 -8.51847331e-02\n",
            "  2.70182292e-02  3.61124674e-03 -1.26627604e-01 -5.10253906e-02\n",
            " -1.90917969e-01 -1.15397135e-01  1.11419678e-01 -6.91528320e-02\n",
            " -1.96289062e-01 -7.16145833e-02  1.46809896e-01  8.71175130e-02\n",
            "  3.95507812e-02 -1.30208333e-02  6.33138021e-02  9.76562500e-02\n",
            "  1.32194519e-01  4.42911784e-02 -2.97851562e-02 -4.68750000e-02\n",
            "  1.36393229e-01  1.21256510e-02  1.23535156e-01  1.12304688e-02\n",
            " -5.73730469e-02  9.37500000e-02 -1.56901042e-01 -4.99064128e-02\n",
            "  1.02539062e-02  2.39257812e-01 -6.87459310e-02 -5.92244466e-02\n",
            " -1.50227865e-01 -2.56835938e-01 -4.47591146e-02 -7.41373698e-02\n",
            " -1.00301107e-02  5.69661458e-02 -6.79931641e-02  7.38932292e-02\n",
            " -1.96367900e-02 -8.36588542e-02  1.83756510e-01 -1.26780192e-01\n",
            " -1.52669271e-01 -8.68326823e-02  1.70898438e-01  1.01236979e-01\n",
            "  1.27319336e-01  1.08846029e-03 -1.00585938e-01 -1.15559896e-01\n",
            "  1.19018555e-01 -3.56445312e-02 -1.56697591e-01 -2.14355469e-01\n",
            " -2.43326823e-01  3.64583333e-02  1.48763021e-01  5.84309896e-02\n",
            "  1.59179688e-01 -6.77083333e-02 -6.86848958e-02 -1.90429688e-02\n",
            "  4.24804688e-02  7.60904948e-02  8.62630208e-03  2.16796875e-01\n",
            " -4.20939128e-02  5.98958333e-02 -1.07930501e-01  1.18977865e-01\n",
            " -2.44954427e-02  4.47591146e-03 -7.62125651e-02 -4.99674479e-02\n",
            "  1.17513021e-01 -5.87565104e-02 -9.04846191e-02  1.30208333e-02\n",
            " -4.45556641e-02 -1.21419271e-01 -6.92647298e-02 -4.37825521e-02\n",
            " -1.90429688e-01 -3.07210286e-02 -3.73433431e-02  2.31852214e-01\n",
            "  5.56640625e-02  4.52473958e-02  5.06184896e-02  5.92447917e-02\n",
            " -1.92545573e-01  6.55110677e-03 -8.34350586e-02 -1.60481771e-01\n",
            " -2.40071615e-02  3.56445312e-02 -3.51562500e-02  2.38932292e-01\n",
            " -5.49316406e-02 -4.55729167e-03  9.52962240e-02 -6.53889974e-02\n",
            " -2.16471354e-02 -8.63444010e-02  4.42708333e-02 -5.43823242e-02\n",
            " -1.59505208e-02  1.24348958e-01  6.42903646e-02  1.95434570e-01\n",
            " -2.54964193e-01 -6.77897135e-02 -8.13802083e-03 -1.40462240e-01\n",
            "  1.90653483e-01  4.83398438e-02  6.47786458e-02 -1.22477214e-01\n",
            " -1.04248047e-01 -6.44531250e-02 -1.21419271e-01  9.32210286e-02\n",
            "  7.43001302e-02 -2.99173991e-02 -2.48209635e-02  3.09244792e-02\n",
            " -8.96809896e-02  1.16048177e-01  1.63045247e-01 -2.69490560e-01\n",
            " -5.89192708e-02 -1.14583333e-01 -7.58463542e-02 -2.52929688e-01\n",
            " -1.05631510e-01 -8.83789062e-02 -1.77571615e-01 -2.62858073e-01\n",
            "  1.08276367e-01  1.57877604e-01 -6.33951823e-02 -1.88802083e-01\n",
            "  1.11165365e-01  1.62760417e-02 -1.22639974e-01 -5.44840495e-02\n",
            " -2.88899740e-02  5.79045614e-02  7.79622396e-02  6.63248698e-02\n",
            " -1.95312500e-03 -2.14680990e-01  9.47265625e-02  1.10677083e-01\n",
            " -3.97135417e-02  3.98763021e-02  3.07617188e-02 -1.13932292e-03\n",
            "  1.36555990e-01 -1.59993490e-01 -3.37890625e-01 -1.83512370e-02\n",
            " -1.03271484e-01  2.42187500e-01 -3.04361979e-01  1.74804688e-01\n",
            " -3.48958333e-01  5.12695312e-02 -8.15836589e-03 -1.09863281e-02\n",
            "  1.09375000e-01  1.35579427e-01 -9.76562500e-03  7.37711589e-02]\n"
          ],
          "name": "stdout"
        },
        {
          "output_type": "stream",
          "text": [
            "\n"
          ],
          "name": "stderr"
        }
      ]
    },
    {
      "cell_type": "markdown",
      "metadata": {
        "id": "8H7yPDrVWaBU"
      },
      "source": [
        "> <font color='blue'>if you observe the above process, we have trained the W2V model only one time with train data\n",
        "w2v_model=Word2Vec(list_of_sentance_train,min_count=5,size=50, workers=4)</font>"
      ]
    },
    {
      "cell_type": "code",
      "metadata": {
        "id": "pWxkawR3WaBV",
        "colab": {
          "base_uri": "https://localhost:8080/",
          "height": 295
        },
        "outputId": "97c89b52-69c3-4f48-a75a-2562ac9a531f"
      },
      "source": [
        "train_auc = []\n",
        "cv_auc = []\n",
        "K = [1, 5, 10, 15, 21, 31, 41, 51]\n",
        "for i in K:\n",
        "    neigh = KNeighborsClassifier(n_neighbors=i)\n",
        "    neigh.fit(sent_vectors_train, y_train)\n",
        "    # roc_auc_score(y_true, y_score) the 2nd parameter should be probability estimates of the positive class\n",
        "    # not the predicted outputs\n",
        "    y_train_pred =  neigh.predict_proba(sent_vectors_train)[:,1]\n",
        "    y_cv_pred =  neigh.predict_proba(sent_vectors_cv)[:,1]\n",
        "    \n",
        "    train_auc.append(roc_auc_score(y_train,y_train_pred))\n",
        "    cv_auc.append(roc_auc_score(y_cv, y_cv_pred))\n",
        "\n",
        "plt.plot(K, train_auc, label='Train AUC')\n",
        "plt.scatter(K, train_auc, label='Train AUC')\n",
        "plt.plot(K, cv_auc, label='CV AUC')\n",
        "plt.scatter(K, cv_auc, label='CV AUC')\n",
        "plt.legend()\n",
        "plt.xlabel(\"K: hyperparameter\")\n",
        "plt.ylabel(\"AUC\")\n",
        "plt.title(\"ERROR PLOTS\")\n",
        "plt.show()"
      ],
      "execution_count": null,
      "outputs": [
        {
          "output_type": "display_data",
          "data": {
            "image/png": "[encoded data removed]",
            "text/plain": [
              "<Figure size 432x288 with 1 Axes>"
            ]
          },
          "metadata": {
            "tags": [],
            "needs_background": "light"
          }
        }
      ]
    },
    {
      "cell_type": "code",
      "metadata": {
        "id": "f5GxuVqgWaBd",
        "colab": {
          "base_uri": "https://localhost:8080/",
          "height": 416
        },
        "outputId": "4c555193-9cd6-48c7-c423-6ae35ed3a750"
      },
      "source": [
        "neigh = KNeighborsClassifier(n_neighbors=10)\n",
        "neigh.fit(sent_vectors_train, y_train)\n",
        "# roc_auc_score(y_true, y_score) the 2nd parameter should be probability estimates of the positive class\n",
        "# not the predicted outputs\n",
        "\n",
        "train_fpr, train_tpr, thresholds = roc_curve(y_train, neigh.predict_proba(sent_vectors_train)[:,1])\n",
        "test_fpr, test_tpr, thresholds = roc_curve(y_test, neigh.predict_proba(sent_vectors_test)[:,1])\n",
        "\n",
        "plt.plot(train_fpr, train_tpr, label=\"train AUC =\"+str(auc(train_fpr, train_tpr)))\n",
        "plt.plot(test_fpr, test_tpr, label=\"train AUC =\"+str(auc(test_fpr, test_tpr)))\n",
        "plt.legend()\n",
        "plt.xlabel(\"K: hyperparameter\")\n",
        "plt.ylabel(\"AUC\")\n",
        "plt.title(\"ERROR PLOTS\")\n",
        "plt.show()\n",
        "\n",
        "print(\"=\"*100)\n",
        "\n",
        "from sklearn.metrics import confusion_matrix\n",
        "print(\"Train confusion matrix\")\n",
        "print(confusion_matrix(y_train, neigh.predict(sent_vectors_train)))\n",
        "print(\"Test confusion matrix\")\n",
        "print(confusion_matrix(y_test, neigh.predict(sent_vectors_test)))"
      ],
      "execution_count": null,
      "outputs": [
        {
          "output_type": "display_data",
          "data": {
            "image/png": "[encoded data removed]",
            "text/plain": [
              "<Figure size 432x288 with 1 Axes>"
            ]
          },
          "metadata": {
            "tags": [],
            "needs_background": "light"
          }
        },
        {
          "output_type": "stream",
          "text": [
            "====================================================================================================\n",
            "Train confusion matrix\n",
            "[[159  13]\n",
            " [ 48 114]]\n",
            "Test confusion matrix\n",
            "[[102   8]\n",
            " [ 55  82]]\n"
          ],
          "name": "stdout"
        }
      ]
    }
  ]
}