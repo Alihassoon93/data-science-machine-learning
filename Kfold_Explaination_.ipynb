{
  "nbformat": 4,
  "nbformat_minor": 0,
  "metadata": {
    "colab": {
      "name": "Kfold Explaination .ipynb",
      "provenance": [],
      "authorship_tag": "ABX9TyMT3c4WRuaXaG20AGW8njcq",
      "include_colab_link": true
    },
    "kernelspec": {
      "name": "python3",
      "display_name": "Python 3"
    }
  },
  "cells": [
    {
      "cell_type": "markdown",
      "metadata": {
        "id": "view-in-github",
        "colab_type": "text"
      },
      "source": [
        "<a href=\"https://colab.research.google.com/github/Alihassoon93/data-science-machine-learning/blob/main/Kfold_Explaination_.ipynb\" target=\"_parent\"><img src=\"https://colab.research.google.com/assets/colab-badge.svg\" alt=\"Open In Colab\"/></a>"
      ]
    },
    {
      "cell_type": "markdown",
      "metadata": {
        "id": "j6vo2kU0xkaw"
      },
      "source": [
        "# The goal of Kfoldd is to find the Optimal K then we use it to apply KNN"
      ]
    },
    {
      "cell_type": "code",
      "metadata": {
        "id": "RrkF4vHDxZHd"
      },
      "source": [
        "# ============================== loading libraries ===========================================\n",
        "import numpy as np\n",
        "import pandas as pd\n",
        "import matplotlib.pyplot as plt\n",
        "from sklearn.model_selection import train_test_split # split the data into x-trian,y-trian--x-test,y-test\n",
        "from sklearn.neighbors import KNeighborsClassifier\n",
        "from sklearn.metrics import accuracy_score\n",
        "from sklearn.model_selection import cross_val_score\n",
        "from collections import Counter\n",
        "from sklearn.metrics import accuracy_score\n",
        "from sklearn import model_selection # model selection is the cross validation function\n",
        "# ============================================================================================="
      ],
      "execution_count": null,
      "outputs": []
    },
    {
      "cell_type": "code",
      "metadata": {
        "id": "Io1h3TDGz8sZ",
        "outputId": "394cba7a-e589-4603-bdad-743921d0584c",
        "colab": {
          "base_uri": "https://localhost:8080/",
          "height": 121
        }
      },
      "source": [
        "from google.colab import drive\n",
        "drive.mount('/content/drive')"
      ],
      "execution_count": null,
      "outputs": [
        {
          "output_type": "stream",
          "text": [
            "Go to this URL in a browser: https://accounts.google.com/o/oauth2/auth?client_id=947318989803-6bn6qk8qdgf4n4g3pfee6491hc0brc4i.apps.googleusercontent.com&redirect_uri=urn%3aietf%3awg%3aoauth%3a2.0%3aoob&scope=email%20https%3a%2f%2fwww.googleapis.com%2fauth%2fdocs.test%20https%3a%2f%2fwww.googleapis.com%2fauth%2fdrive%20https%3a%2f%2fwww.googleapis.com%2fauth%2fdrive.photos.readonly%20https%3a%2f%2fwww.googleapis.com%2fauth%2fpeopleapi.readonly&response_type=code\n",
            "\n",
            "Enter your authorization code:\n",
            "··········\n",
            "Mounted at /content/drive\n"
          ],
          "name": "stdout"
        }
      ]
    },
    {
      "cell_type": "code",
      "metadata": {
        "id": "OXYcZZjozjT0",
        "outputId": "b80efc2b-eff5-42ee-ade2-784d14f8d866",
        "colab": {
          "base_uri": "https://localhost:8080/",
          "height": 202
        }
      },
      "source": [
        "# here we use one of our toy dataset in sake of simplcity\n",
        "\n",
        "# Part I \n",
        "# ============================== data preprocessing ===========================================\n",
        "\n",
        "\n",
        "# define column names\n",
        "names = ['x', 'y', 'class']\n",
        "\n",
        "# loading training data\n",
        "df = pd.read_csv('/content/drive/My Drive/demo_data/3.concertriccir2.csv', header=None, names=names) # notice we include names here\n",
        "print(df.head(10))\n",
        "\n",
        "# create design matrix(data) X and target vector y\n",
        "X = np.array(df.iloc[:, 0:4]) # end index is exclusive\n",
        "y = np.array(df['class']) # showing you two ways of indexing a pandas df"
      ],
      "execution_count": null,
      "outputs": [
        {
          "output_type": "stream",
          "text": [
            "          x         y  class\n",
            "0  0.700335 -0.247068    0.0\n",
            "1 -3.950019  2.740080    1.0\n",
            "2  0.150222 -2.157638    1.0\n",
            "3 -1.672050 -0.941519    1.0\n",
            "4  2.560483 -1.846577    1.0\n",
            "5 -1.724979  3.463930    1.0\n",
            "6  0.189573  1.699962    1.0\n",
            "7 -0.334372  1.029284    0.0\n",
            "8  3.098117 -2.681859    1.0\n",
            "9 -1.240663 -1.227236    1.0\n"
          ],
          "name": "stdout"
        }
      ]
    },
    {
      "cell_type": "markdown",
      "metadata": {
        "id": "ljA_DhOxwtmR"
      },
      "source": [
        "## Simple Cross Validation (without kfold)"
      ]
    },
    {
      "cell_type": "code",
      "metadata": {
        "id": "NG-c8h081Myu",
        "outputId": "5795844b-84b1-4626-f4d6-702a856f8a62",
        "colab": {
          "base_uri": "https://localhost:8080/",
          "height": 554
        }
      },
      "source": [
        "# model selection is the cross validation function\n",
        "\n",
        "# split the data set into train(70%) and test(30%)\n",
        "X_1, X_test, y_1, y_test = model_selection.train_test_split(X, y, test_size=0.3, random_state=0) # this randoms we can give it any number\n",
        "\n",
        "# now we have 70% the training data\n",
        "# split the train data set into cross validation train(49%) and cross validation test(21%)\n",
        "X_tr, X_cv, y_tr, y_cv = model_selection.train_test_split(X_1, y_1, test_size=0.3)\n",
        "\n",
        "for i in range(1,30,2):\n",
        "    # instantiate learning model (k = 30) with only odd value (1,3,5...,29)\n",
        "    knn = KNeighborsClassifier(n_neighbors=i)\n",
        "\n",
        "    # fitting the model on crossvalidation train\n",
        "    knn.fit(X_tr, y_tr)\n",
        "\n",
        "    # predict the response on the crossvalidation train \n",
        "    pred = knn.predict(X_cv)\n",
        "\n",
        "    # evaluate CV accuracy (what did knn.fit(X_tr, y_tr) predict on X_cv and what are the actual values which y_cv)\n",
        "    acc = accuracy_score(y_cv, pred, normalize=True) * float(100)\n",
        "    print('\\nCV accuracy for k = %d is %d%%' % (i, acc)) # this code means print all the Ks and their acc which are defined in (i)\n",
        "\n",
        "# now we test it on our X and Y test (the unseen data to confirm the acc)   \n",
        "knn = KNeighborsClassifier(1)\n",
        "knn.fit(X_tr,y_tr)\n",
        "pred = knn.predict(X_test) \n",
        "# now we compare the  pred with our Y-test to verify the acc\n",
        "acc = accuracy_score(y_test, pred, normalize=True) * float(100)\n",
        "print('\\n****Test accuracy for k = 1 is %d%%' % (acc))"
      ],
      "execution_count": null,
      "outputs": [
        {
          "output_type": "stream",
          "text": [
            "\n",
            "CV accuracy for k = 1 is 100%\n",
            "\n",
            "CV accuracy for k = 3 is 100%\n",
            "\n",
            "CV accuracy for k = 5 is 100%\n",
            "\n",
            "CV accuracy for k = 7 is 100%\n",
            "\n",
            "CV accuracy for k = 9 is 100%\n",
            "\n",
            "CV accuracy for k = 11 is 99%\n",
            "\n",
            "CV accuracy for k = 13 is 94%\n",
            "\n",
            "CV accuracy for k = 15 is 92%\n",
            "\n",
            "CV accuracy for k = 17 is 91%\n",
            "\n",
            "CV accuracy for k = 19 is 88%\n",
            "\n",
            "CV accuracy for k = 21 is 83%\n",
            "\n",
            "CV accuracy for k = 23 is 76%\n",
            "\n",
            "CV accuracy for k = 25 is 71%\n",
            "\n",
            "CV accuracy for k = 27 is 68%\n",
            "\n",
            "CV accuracy for k = 29 is 66%\n",
            "\n",
            "****Test accuracy for k = 1 is 99%\n"
          ],
          "name": "stdout"
        }
      ]
    },
    {
      "cell_type": "markdown",
      "metadata": {
        "id": "5FuiVyS3wtmb"
      },
      "source": [
        "## 10 fold cross validation (with kfold)"
      ]
    },
    {
      "cell_type": "code",
      "metadata": {
        "id": "aitX5RfQ7cU2",
        "outputId": "fbf368f5-5bc1-4114-e3a4-62d5e9fa43ce",
        "colab": {
          "base_uri": "https://localhost:8080/",
          "height": 363
        }
      },
      "source": [
        "# creating odd list of K for KNN (1,3,5.....,49)\n",
        "myList = list(range(0,50))\n",
        "neighbors = list(filter(lambda x: x % 2 != 0, myList))\n",
        "\n",
        "# empty list that will hold cv scores\n",
        "cv_scores = []\n",
        "\n",
        "# perform 10-fold cross validation\n",
        "for k in neighbors:\n",
        "    knn = KNeighborsClassifier(n_neighbors=k)\n",
        "    # use 10-kfold- cv on X_tr, y_tr with knn as my model & use accuracy metric \n",
        "    scores = cross_val_score(knn, X_tr, y_tr, cv=10, scoring='accuracy')\n",
        "    # it returns me 10 kfold then we take the mean of them and append it to cv_scores \n",
        "    cv_scores.append(scores.mean())\n",
        "\n",
        "# changing to misclassification error (ex. if acc = 90% , err = 10%)\n",
        "MSE = [1 - x for x in cv_scores]\n",
        "\n",
        "# determining best k (wich on of them has the lowest misclassification error)\n",
        "optimal_k = neighbors[MSE.index(min(MSE))]\n",
        "print('\\nThe optimal number of neighbors is %d.' % optimal_k)\n",
        "\n",
        "# plot misclassification error vs for k \n",
        "plt.plot(neighbors, MSE)\n",
        "\n",
        "for xy in zip(neighbors, np.round(MSE,3)):\n",
        "    plt.annotate('(%s, %s)' % xy, xy=xy, textcoords='data')\n",
        "\n",
        "plt.xlabel('Number of Neighbors K')\n",
        "plt.ylabel('Misclassification Error')\n",
        "plt.show()\n",
        "\n",
        "print(\"the misclassification error for each k value is : \", np.round(MSE,3))"
      ],
      "execution_count": null,
      "outputs": [
        {
          "output_type": "stream",
          "text": [
            "\n",
            "The optimal number of neighbors is 1.\n"
          ],
          "name": "stdout"
        },
        {
          "output_type": "display_data",
          "data": {
            "image/png": "[encoded data removed]",
            "text/plain": [
              "<Figure size 432x288 with 1 Axes>"
            ]
          },
          "metadata": {
            "tags": [],
            "needs_background": "light"
          }
        },
        {
          "output_type": "stream",
          "text": [
            "the misclassification error for each k value is :  [0.    0.    0.    0.    0.033 0.057 0.057 0.07  0.103 0.131 0.168 0.188\n",
            " 0.209 0.249 0.262 0.29  0.311 0.339 0.36  0.368 0.38  0.38  0.384 0.392\n",
            " 0.388]\n"
          ],
          "name": "stdout"
        }
      ]
    },
    {
      "cell_type": "code",
      "metadata": {
        "id": "tXbpkHaNDNSu",
        "outputId": "c00f0dc0-80c6-41c2-c703-43b458584401",
        "colab": {
          "base_uri": "https://localhost:8080/",
          "height": 50
        }
      },
      "source": [
        "# ============================== KNN with k = optimal_k ===============================================\n",
        "#npw on that optimal k we gonna trian our model\n",
        "\n",
        "# instantiate learning model k = optimal_k\n",
        "knn_optimal = KNeighborsClassifier(n_neighbors=optimal_k)\n",
        "\n",
        "# fitting the model\n",
        "knn_optimal.fit(X_tr, y_tr)\n",
        "\n",
        "# predict the response\n",
        "pred = knn_optimal.predict(X_test)\n",
        "\n",
        "# evaluate accuracy\n",
        "acc = accuracy_score(y_test, pred) * 100\n",
        "print('\\nThe accuracy of the knn classifier for k = %d is %f%%' % (optimal_k, acc))"
      ],
      "execution_count": null,
      "outputs": [
        {
          "output_type": "stream",
          "text": [
            "\n",
            "The accuracy of the knn classifier for k = 1 is 99.333333%\n"
          ],
          "name": "stdout"
        }
      ]
    }
  ]
}